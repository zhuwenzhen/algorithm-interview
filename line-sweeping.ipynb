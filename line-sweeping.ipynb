{
 "cells": [
  {
   "cell_type": "markdown",
   "id": "apparent-leather",
   "metadata": {
    "Collapsed": "false"
   },
   "source": [
    "# Line Sweeping Algorithm"
   ]
  },
  {
   "cell_type": "markdown",
   "id": "parental-terrain",
   "metadata": {
    "Collapsed": "false"
   },
   "source": [
    "April 21 - April 23"
   ]
  },
  {
   "cell_type": "markdown",
   "id": "portable-conference",
   "metadata": {
    "Collapsed": "true"
   },
   "source": [
    "## LC 391 Count airplane"
   ]
  },
  {
   "cell_type": "markdown",
   "id": "restricted-jones",
   "metadata": {
    "Collapsed": "false"
   },
   "source": [
    "Description\n",
    "Given an list `interval`, which are taking off and landing time of the flight. How many airplanes are there at most at the same time in the sky?\n",
    "\n",
    "```\n",
    "Input: [(1, 10), (2, 3), (5, 8), (4, 7)]\n",
    "Output: 3\n",
    "Explanation:\n",
    "The first airplane takes off at 1 and lands at 10.\n",
    "The second ariplane takes off at 2 and lands at 3.\n",
    "The third ariplane takes off at 5 and lands at 8.\n",
    "The forth ariplane takes off at 4 and lands at 7.\n",
    "During 5 to 6, there are three airplanes in the sky.\n",
    "```"
   ]
  },
  {
   "cell_type": "markdown",
   "id": "spectacular-sunday",
   "metadata": {
    "Collapsed": "false"
   },
   "source": [
    "### Solution"
   ]
  },
  {
   "cell_type": "code",
   "execution_count": 10,
   "id": "portuguese-hobby",
   "metadata": {
    "Collapsed": "false"
   },
   "outputs": [],
   "source": [
    "class Interval(object):\n",
    "    def __init__(self, start, end):\n",
    "        self.start = start\n",
    "        self.end = end\n",
    "        \n",
    "import functools\n",
    "class Solution:\n",
    "    \"\"\"\n",
    "    @param airplanes: An interval array\n",
    "    @return: Count of airplanes are in the sky.\n",
    "    \"\"\"\n",
    "    def _comparator(self, e1, e2):\n",
    "        # (1, 10), (2, 3)\n",
    "        # （-1， 7）\n",
    "        if e1[0] != e2[0]:\n",
    "            return e1[0] - e2[0]\n",
    "        else:\n",
    "            return e1[1] - e2[1]\n",
    "        \n",
    "        \n",
    "    def countOfAirplanes(self, airplanes):\n",
    "        events = []\n",
    "        for airplane in airplanes:\n",
    "            # use 1 and -1 to label in/out takes-off/landing\n",
    "            events.append((airplane.start, 1))\n",
    "            events.append((airplane.end, -1))\n",
    "        events = sorted(events, key=functools.cmp_to_key(self._comparator))\n",
    "\n",
    "        cnt = 0\n",
    "        most = 0\n",
    "        \n",
    "        for time, delta in events:\n",
    "            cnt += delta\n",
    "            most = max(most, cnt)\n",
    "            \n",
    "        return most"
   ]
  },
  {
   "cell_type": "code",
   "execution_count": 3,
   "id": "global-edwards",
   "metadata": {
    "Collapsed": "false"
   },
   "outputs": [
    {
     "name": "stdout",
     "output_type": "stream",
     "text": [
      "sorted events:  [(1, 1), (2, 1), (3, -1), (4, 1), (5, 1), (7, -1), (8, -1), (10, -1)]\n",
      "3\n"
     ]
    }
   ],
   "source": [
    "test1 = [(1, 10), (2, 3), (5, 8), (4, 7)];\n",
    "intervals = []\n",
    "for i in test1:\n",
    "    intervals.append(Interval(i[0], i[1]))\n",
    "s = Solution()\n",
    "print(s.countOfAirplanes(intervals))"
   ]
  },
  {
   "cell_type": "markdown",
   "id": "nervous-speed",
   "metadata": {
    "Collapsed": "false"
   },
   "source": [
    "## LC 30 Insert Interval"
   ]
  },
  {
   "cell_type": "markdown",
   "id": "casual-notice",
   "metadata": {
    "Collapsed": "false"
   },
   "source": [
    "### Description\n",
    "Given a non-overlapping interval list which is sorted by start point.\n",
    "Insert a new interval into it, make sure the list is still in order and `non-overlapping` (merge intervals if necessary).\n",
    "\n",
    "```\n",
    "Input:\n",
    "interval list = [(1, 2), (5, 9)]\n",
    "new interval = (2, 5)\n",
    "\n",
    "Output:\n",
    "[(1,9)]\n",
    "```"
   ]
  },
  {
   "cell_type": "markdown",
   "id": "quiet-formula",
   "metadata": {
    "Collapsed": "false"
   },
   "source": [
    "### Solution"
   ]
  },
  {
   "cell_type": "code",
   "execution_count": 9,
   "id": "distributed-party",
   "metadata": {
    "Collapsed": "false"
   },
   "outputs": [],
   "source": [
    "class Interval(object):\n",
    "    def __init__(self, start, end):\n",
    "        self.start = start\n",
    "        self.end = end"
   ]
  },
  {
   "cell_type": "code",
   "execution_count": 8,
   "id": "confirmed-pierce",
   "metadata": {
    "Collapsed": "false"
   },
   "outputs": [],
   "source": [
    "class Solution:\n",
    "    \"\"\"\n",
    "    @param intervals: Sorted interval list.\n",
    "    @param newInterval: new interval.\n",
    "    @return: A new interval list.\n",
    "    \"\"\"\n",
    "    def insert(self, intervals, newInterval):\n",
    "        res = []\n",
    "        insertPos = 0\n",
    "        for interval in intervals:\n",
    "            # locate the interval and the interval going to be insert\n",
    "            # get interval intersection\n",
    "            if interval.end < newInterval.start:\n",
    "                res.apend(interval)\n",
    "                insertPos += 1\n",
    "            elif interval.start > newInterval.end:\n",
    "                res.append(interval)\n",
    "            else:\n",
    "                newInterval.start = min(interval.start, newInterval.start)\n",
    "                newInterval.end = max(interval.edn, newInterval.end)\n",
    "                \n",
    "        res.insert(insertPos, newInterval)\n",
    "        return res"
   ]
  },
  {
   "cell_type": "markdown",
   "id": "heavy-journalism",
   "metadata": {
    "Collapsed": "false"
   },
   "source": [
    "#### 算法：模拟\n",
    "\n",
    "只要依次遍历，判断当前元素与要插入元素的关系。\n",
    "\n",
    "如当前元素的右端点小于插入元素的左端点，则说明当前元素与插入元素无交并。\n",
    "如当前元素的左端点大于插入元素的右端点，也说明当前元素与插入元素无交并。\n",
    "依次遍历，判断当前元素与要插入元素的关系，找到插入点，插入这个新区间\n",
    "\n",
    "若是相交的，那么就停止比较，把要插入元素和当前元素合并成新区间\n",
    "因为合并后的新区间也许和右边的元素有交集，会引起连锁反应，所以一直和右边的元素合并，直到无法合并为止\n",
    "\n",
    "#### 复杂度分析\n",
    "\n",
    "* 时间复杂度O(n) n为数组的大小\n",
    "* 空间复杂度O(n) n为数组的大小"
   ]
  },
  {
   "cell_type": "markdown",
   "id": "early-phone",
   "metadata": {
    "Collapsed": "false"
   },
   "source": [
    "## LC 821 Time Intersection"
   ]
  },
  {
   "cell_type": "markdown",
   "id": "adjacent-andrews",
   "metadata": {
    "Collapsed": "false"
   },
   "source": [
    "[link](https://www.lintcode.com/problem/821/)\n",
    "\n",
    "### Description\n",
    "\n",
    "Give two users' ordered online time series, and each section records the user's login time point x and offline time point y. Find out the time periods when both users are online at the same time, and output in ascending order.you need return a list of intervals.\n",
    "\n",
    "Example 1:\n",
    "```\n",
    "Input: seqA = [(1,2),(5,100)], seqB = [(1,6)]\n",
    "Output: [(1,2),(5,6)]\n",
    "Explanation: In these two time periods (1,2), (5,6), both users are online at the same time.\n",
    "```"
   ]
  },
  {
   "cell_type": "code",
   "execution_count": 11,
   "id": "complex-investigation",
   "metadata": {
    "Collapsed": "false"
   },
   "outputs": [],
   "source": [
    "class Solution:\n",
    "    \"\"\"\n",
    "    @param seqA: the list of intervals\n",
    "    @param seqB: the list of intervals\n",
    "    @return: the time periods\n",
    "    \"\"\"\n",
    "    def timeIntersection(self, seqA, seqB):\n",
    "        pts = []\n",
    "        for intv in seqA + seqB:\n",
    "            pts.append((intv.start, 1))\n",
    "            pts.append((intv.end, -1))\n",
    "        online = 0\n",
    "        res = []\n",
    "        t_last = None\n",
    "        for t, delta in sorted(pts):\n",
    "            if online == 2:\n",
    "                self.merge(res, t_last, t)\n",
    "            online += delta\n",
    "            t_last = t\n",
    "        return res\n",
    "    \n",
    "    def merge(self, intervals, start, end):\n",
    "        if start is None or start == end:\n",
    "            return\n",
    "        if intervals and intervals[-1].end == start:\n",
    "            intervals[-1].end = end\n",
    "            return\n",
    "        intervals.append(Interval(start, end))"
   ]
  },
  {
   "cell_type": "code",
   "execution_count": 12,
   "id": "sweet-pleasure",
   "metadata": {
    "Collapsed": "false"
   },
   "outputs": [],
   "source": [
    "seqA = [Interval(1,2),Interval(5,100)]\n",
    "seqB = [Interval(1,6)]"
   ]
  },
  {
   "cell_type": "code",
   "execution_count": 14,
   "id": "sound-triple",
   "metadata": {},
   "outputs": [],
   "source": [
    "s = Solution()\n",
    "res = s.timeIntersection(seqA, seqB)\n",
    "for e in res:\n",
    "    print(e.start, e.end)"
   ]
  },
  {
   "cell_type": "code",
   "execution_count": 15,
   "id": "dressed-charlotte",
   "metadata": {},
   "outputs": [
    {
     "name": "stdout",
     "output_type": "stream",
     "text": [
      "1 2\n",
      "5 6\n"
     ]
    }
   ],
   "source": [
    "seqA = [Interval(1,2),(10,15)], seqB = [(3,5),(7,9)]"
   ]
  },
  {
   "cell_type": "code",
   "execution_count": null,
   "id": "beginning-mouth",
   "metadata": {},
   "outputs": [],
   "source": []
  }
 ],
 "metadata": {
  "kernelspec": {
   "display_name": "conda_python3",
   "language": "python",
   "name": "conda_python3"
  },
  "language_info": {
   "codemirror_mode": {
    "name": "ipython",
    "version": 3
   },
   "file_extension": ".py",
   "mimetype": "text/x-python",
   "name": "python",
   "nbconvert_exporter": "python",
   "pygments_lexer": "ipython3",
   "version": "3.6.13"
  }
 },
 "nbformat": 4,
 "nbformat_minor": 5
}
